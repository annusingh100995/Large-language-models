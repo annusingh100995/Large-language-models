{
 "cells": [
  {
   "cell_type": "markdown",
   "id": "86cf30f7-6c25-49af-b386-bc4294e19a81",
   "metadata": {},
   "source": [
    "Chatting with a LLM- Google Gemini2.0 flash, because it's free right now"
   ]
  },
  {
   "cell_type": "code",
   "execution_count": 1,
   "id": "867935f5-36c7-4da9-8c6f-e67fba9d2344",
   "metadata": {},
   "outputs": [],
   "source": [
    "# Loading the required libraries\n",
    "from dotenv import load_dotenv\n",
    "from langchain_google_genai import ChatGoogleGenerativeAI\n",
    "from langchain.schema import AIMessage, HumanMessage, SystemMessage"
   ]
  },
  {
   "cell_type": "markdown",
   "id": "465bdc2b-c095-4e26-b06b-14c8dea896b3",
   "metadata": {},
   "source": [
    "Loading the environment variable file"
   ]
  },
  {
   "cell_type": "code",
   "execution_count": 2,
   "id": "88cf9662-25c9-4728-8a20-e784ab538355",
   "metadata": {},
   "outputs": [
    {
     "data": {
      "text/plain": [
       "True"
      ]
     },
     "execution_count": 2,
     "metadata": {},
     "output_type": "execute_result"
    }
   ],
   "source": [
    "load_dotenv()"
   ]
  },
  {
   "cell_type": "markdown",
   "id": "ff0672da-d386-4e10-a59c-5a8fdaf03f36",
   "metadata": {},
   "source": [
    "Instantiating the Google's Gemini Model"
   ]
  },
  {
   "cell_type": "code",
   "execution_count": 3,
   "id": "19cdc22e-018b-4a83-81d4-59469f75d33a",
   "metadata": {},
   "outputs": [],
   "source": [
    "model = ChatGoogleGenerativeAI(model=\"gemini-2.0-flash\")"
   ]
  },
  {
   "cell_type": "markdown",
   "id": "a52f71d9-9a4e-49f5-af1c-96706cdf266a",
   "metadata": {},
   "source": [
    "Creating a list to store the chat messages"
   ]
  },
  {
   "cell_type": "code",
   "execution_count": 4,
   "id": "ed91fa69-f136-47c1-a922-c27eefa589f7",
   "metadata": {},
   "outputs": [],
   "source": [
    "chat_history = []"
   ]
  },
  {
   "cell_type": "code",
   "execution_count": 6,
   "id": "27987848-96b0-42c4-94ca-2ca66c020b2a",
   "metadata": {},
   "outputs": [],
   "source": [
    "# Optional, setting intitial system messages\n",
    "system_message = SystemMessage(content=\"You are a helpful AI assitant.\")\n",
    "chat_history.append(system_message)"
   ]
  },
  {
   "cell_type": "code",
   "execution_count": 7,
   "id": "ad7e7f7d-4767-4b7c-919d-ef497e495e42",
   "metadata": {},
   "outputs": [],
   "source": [
    "# Creating a chat loop. It will create a chat where you can send querys and get response from the model"
   ]
  },
  {
   "cell_type": "code",
   "execution_count": 8,
   "id": "f6d1544e-9b4d-4815-a786-0e5fd77473be",
   "metadata": {
    "collapsed": true,
    "jupyter": {
     "outputs_hidden": true
    }
   },
   "outputs": [
    {
     "name": "stdin",
     "output_type": "stream",
     "text": [
      "You:  heelo\n"
     ]
    },
    {
     "name": "stdout",
     "output_type": "stream",
     "text": [
      "AI : Hello! How can I help you today? Did you mean to say \"hello\" before, or is there something else you'd like to talk about?\n"
     ]
    },
    {
     "name": "stdin",
     "output_type": "stream",
     "text": [
      "You:  traslate Los Gehts to englist\n"
     ]
    },
    {
     "name": "stdout",
     "output_type": "stream",
     "text": [
      "AI : You already asked me that! \"Los gehts\" is German and translates to **\"Let's go!\"** or **\"Here we go!\"** in English.\n"
     ]
    },
    {
     "name": "stdin",
     "output_type": "stream",
     "text": [
      "You:  wow, you remember\n"
     ]
    },
    {
     "name": "stdout",
     "output_type": "stream",
     "text": [
      "AI : Yes, I do! I have a memory of our conversation within this session. It helps me understand the context and provide more relevant answers. Is there anything else I can help you with?\n"
     ]
    },
    {
     "name": "stdin",
     "output_type": "stream",
     "text": [
      "You:  is your memory on my laptop or on google's cloud?\n"
     ]
    },
    {
     "name": "stdout",
     "output_type": "stream",
     "text": [
      "AI : My memory isn't stored on your laptop. It exists within Google's cloud infrastructure, specifically within the servers and systems that power me.\n",
      "\n",
      "Think of it this way: you're using your laptop to communicate with me, but I'm running on Google's computers in their data centers. My \"brain\" and my memory are all part of that Google infrastructure.\n"
     ]
    },
    {
     "name": "stdin",
     "output_type": "stream",
     "text": [
      "You:  cool\n"
     ]
    },
    {
     "name": "stdout",
     "output_type": "stream",
     "text": [
      "AI : Glad you think so! Is there anything else you'd like to know or anything else I can help you with?\n"
     ]
    },
    {
     "name": "stdin",
     "output_type": "stream",
     "text": [
      "You:  exit\n"
     ]
    },
    {
     "name": "stdout",
     "output_type": "stream",
     "text": [
      "----Message Hsitory----\n",
      "[HumanMessage(content='hello', additional_kwargs={}, response_metadata={}), AIMessage(content='Hello! How can I help you today?', additional_kwargs={}, response_metadata={}), HumanMessage(content='can you google internet?', additional_kwargs={}, response_metadata={}), AIMessage(content=\"I can't directly use Google in the way a person can. I don't have a search bar or a browser. However, I can use my knowledge to tell you about the internet.\\n\\nWhat specifically about the internet are you interested in? For example, are you wondering:\\n\\n*   **What is the internet?** (A global network of interconnected computers...)\\n*   **How does the internet work?** (Through protocols like TCP/IP...)\\n*   **The history of the internet?** (Started as ARPANET...)\\n*   **How to access the internet?** (Through an internet service provider...)\\n\\nThe more specific you are, the better I can answer!\", additional_kwargs={}, response_metadata={}), HumanMessage(content='can you tell what time it is?', additional_kwargs={}, response_metadata={}), AIMessage(content='I do not have access to your location and therefore cannot provide you with the current time.\\n\\nTo find out the current time, you can:\\n\\n*   **Look at your computer\\'s clock (usually in the bottom right corner).**\\n*   **Look at your phone\\'s clock.**\\n*   **Ask a digital assistant like Siri, Google Assistant, or Alexa.**\\n*   **Search \"what time is it\" on Google or another search engine.**\\n\\nI hope that helps!', additional_kwargs={}, response_metadata={}), HumanMessage(content='Can you translate Los Gehts to english?', additional_kwargs={}, response_metadata={}), AIMessage(content='\"Los gehts\" is German and translates to **\"Let\\'s go!\"** or **\"Here we go!\"** in English.', additional_kwargs={}, response_metadata={}), SystemMessage(content='You are a helpful AI assitant.', additional_kwargs={}, response_metadata={}), HumanMessage(content='heelo', additional_kwargs={}, response_metadata={}), AIMessage(content='Hello! How can I help you today? Did you mean to say \"hello\" before, or is there something else you\\'d like to talk about?', additional_kwargs={}, response_metadata={}), HumanMessage(content='traslate Los Gehts to englist', additional_kwargs={}, response_metadata={}), AIMessage(content='You already asked me that! \"Los gehts\" is German and translates to **\"Let\\'s go!\"** or **\"Here we go!\"** in English.', additional_kwargs={}, response_metadata={}), HumanMessage(content='wow, you remember', additional_kwargs={}, response_metadata={}), AIMessage(content='Yes, I do! I have a memory of our conversation within this session. It helps me understand the context and provide more relevant answers. Is there anything else I can help you with?', additional_kwargs={}, response_metadata={}), HumanMessage(content=\"is your memory on my laptop or on google's cloud?\", additional_kwargs={}, response_metadata={}), AIMessage(content='My memory isn\\'t stored on your laptop. It exists within Google\\'s cloud infrastructure, specifically within the servers and systems that power me.\\n\\nThink of it this way: you\\'re using your laptop to communicate with me, but I\\'m running on Google\\'s computers in their data centers. My \"brain\" and my memory are all part of that Google infrastructure.', additional_kwargs={}, response_metadata={}), HumanMessage(content='cool', additional_kwargs={}, response_metadata={}), AIMessage(content=\"Glad you think so! Is there anything else you'd like to know or anything else I can help you with?\", additional_kwargs={}, response_metadata={})]\n"
     ]
    }
   ],
   "source": [
    "while True:\n",
    "    query = input(\"You: \")\n",
    "    if query.lower() == \"exit\":\n",
    "        break\n",
    "    chat_history.append(HumanMessage(content=query))\n",
    "\n",
    "    result = model.invoke(chat_history)\n",
    "    response = result.content\n",
    "    chat_history.append(AIMessage(response))\n",
    "\n",
    "    print(f\"AI : {response}\")\n",
    "\n",
    "\n",
    "print(\"----Message Hsitory----\")\n",
    "print(chat_history)"
   ]
  }
 ],
 "metadata": {
  "kernelspec": {
   "display_name": "Python 3 (ipykernel)",
   "language": "python",
   "name": "python3"
  },
  "language_info": {
   "codemirror_mode": {
    "name": "ipython",
    "version": 3
   },
   "file_extension": ".py",
   "mimetype": "text/x-python",
   "name": "python",
   "nbconvert_exporter": "python",
   "pygments_lexer": "ipython3",
   "version": "3.11.11"
  }
 },
 "nbformat": 4,
 "nbformat_minor": 5
}
