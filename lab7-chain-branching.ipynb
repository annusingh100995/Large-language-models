{
 "cells": [
  {
   "cell_type": "code",
   "execution_count": 1,
   "id": "2b7e1c42-719e-4ba9-a459-1cb338063e39",
   "metadata": {},
   "outputs": [],
   "source": [
    "from dotenv import load_dotenv\n",
    "from langchain.prompts import ChatPromptTemplate\n",
    "from langchain.schema.output_parser import StrOutputParser\n",
    "from langchain.schema.runnable import RunnableBranch\n",
    "from langchain_google_genai import ChatGoogleGenerativeAI\n"
   ]
  },
  {
   "cell_type": "code",
   "execution_count": 2,
   "id": "3302676a-9b09-4b76-b899-0e362f319723",
   "metadata": {},
   "outputs": [
    {
     "data": {
      "text/plain": [
       "True"
      ]
     },
     "execution_count": 2,
     "metadata": {},
     "output_type": "execute_result"
    }
   ],
   "source": [
    "# Importing the env variables\n",
    "load_dotenv()"
   ]
  },
  {
   "cell_type": "code",
   "execution_count": 3,
   "id": "b21a9974-f3af-4675-8dd0-a1f958b97c75",
   "metadata": {},
   "outputs": [],
   "source": [
    "# Model\n",
    "model = ChatGoogleGenerativeAI(model=\"gemini-2.0-flash\")"
   ]
  },
  {
   "cell_type": "code",
   "execution_count": 21,
   "id": "b900b0bc-88d2-493e-9797-e8aa17cc29ac",
   "metadata": {},
   "outputs": [],
   "source": [
    "# Defining prompt template for different types\n",
    "\n",
    "positive_feedback_template = ChatPromptTemplate.from_messages(\n",
    "    [\n",
    "        (\"system\",\"You are a helful assitant\"),\n",
    "        (\"human\", \"Generate a thank you note for the reviewer who gave a positive feedback: {feedback}\")\n",
    "    ]\n",
    ")\n",
    "\n",
    "negative_feedback_template = ChatPromptTemplate.from_messages(\n",
    "    [\n",
    "        (\"system\", \"You are a helpful assitant\"),\n",
    "        (\"human\",\"Generate a response addresing the reviewer who gave a negative feedback : {feedback}\")\n",
    "    ]\n",
    ")\n",
    "\n",
    "neutral_feedback_template = ChatPromptTemplate.from_messages(\n",
    "    [\n",
    "        (\"system\", \"You are a helpful assitant\"),\n",
    "        (\"human\", \"Generate a request for more details for the reviewer who gave a neutral feedback : {feedback}\")\n",
    "    ]\n",
    ")\n",
    "\n",
    "escalate_feedback_template = ChatPromptTemplate.from_messages(\n",
    "    [\n",
    "        (\"system\",\"You are a helpful agent\"),\n",
    "        (\"human\",\"Generate a message the reviewer that we will escalate this feedback to human agent : {feedback}\")\n",
    "    ]\n",
    ")\n",
    "\n",
    "classification_template = ChatPromptTemplate.from_messages(\n",
    "    [\n",
    "        (\"system\",\"You are a helpful agent\"),\n",
    "        (\"human\",\"Classify the sentiment of this feedback as positive, negative, neutral or esclate : {feedback}\")\n",
    "    ]\n",
    ")\n"
   ]
  },
  {
   "cell_type": "code",
   "execution_count": 22,
   "id": "eddae8e9-760c-40cd-a99d-dbce8bbcfd1a",
   "metadata": {},
   "outputs": [],
   "source": [
    "# DEfineing the branches\n",
    "branches = RunnableBranch(\n",
    "    (\n",
    "        lambda x: \"positive\" in x,\n",
    "        positive_feedback_template | model | StrOutputParser()\n",
    "    ),\n",
    "    (\n",
    "        lambda x: \"negative\" in x,\n",
    "        negative_feedback_template | model | StrOutputParser()\n",
    "    ),\n",
    "    (\n",
    "        lambda x: \"neutral\" in x,\n",
    "        neutral_feedback_template | model | StrOutputParser()\n",
    "    ),\n",
    "        escalate_feedback_template | model | StrOutputParser()\n",
    ")"
   ]
  },
  {
   "cell_type": "code",
   "execution_count": 23,
   "id": "6799dc59-d663-4703-a760-ea0691cb70f1",
   "metadata": {},
   "outputs": [],
   "source": [
    "#classificagion_chian\n",
    "\n",
    "classification_chain = classification_template | model | StrOutputParser()\n",
    "\n",
    "final_chain = classification_chain | branches"
   ]
  },
  {
   "cell_type": "code",
   "execution_count": 24,
   "id": "bb918dc1-4e48-4cd7-9d5e-6125c449646d",
   "metadata": {},
   "outputs": [],
   "source": [
    "# Run the chain with an example review\n",
    "good_review = \"The product is excellent. I really enjoyed using it and found it very helpful.\"\n",
    "bad_review = \"The product is terrible. It broke after just one use and the quality is very poor.\"\n",
    "neutral_review = \"The product is okay. It works as expected but nothing exceptional.\"\n",
    "default = \"I'm not sure about the product yet. Can you tell me more about its features and benefits?\"\n",
    "\n"
   ]
  },
  {
   "cell_type": "code",
   "execution_count": 25,
   "id": "710c4a3d-d59c-4206-8a6e-e1f4f8d8be34",
   "metadata": {},
   "outputs": [
    {
     "name": "stdout",
     "output_type": "stream",
     "text": [
      "Okay, here are a few options for a message to the reviewer indicating that their negative feedback will be escalated to a human agent, with varying levels of formality:\n",
      "\n",
      "**Option 1 (Neutral & Concise):**\n",
      "\n",
      "> Thank you for your feedback. We are escalating this issue to a human agent for further review.\n",
      "\n",
      "**Option 2 (Slightly More Empathetic):**\n",
      "\n",
      "> We appreciate you bringing this to our attention. We're escalating your feedback to a human agent who can investigate further.\n",
      "\n",
      "**Option 3 (Formal):**\n",
      "\n",
      "> Thank you for providing your feedback. Due to the nature of your concern, we are escalating this matter to a human agent for review and appropriate action.\n",
      "\n",
      "**Option 4 (Focus on Resolution):**\n",
      "\n",
      "> We understand your concern. To ensure this is addressed properly, we are escalating your feedback to a human agent who will be able to assist you further.\n",
      "\n",
      "**Option 5 (If you need more information):**\n",
      "\n",
      "> Thank you for your feedback. We are escalating this to a human agent for further review. They may contact you for more information to help resolve the issue.\n",
      "\n",
      "**Key Considerations When Choosing:**\n",
      "\n",
      "*   **Your Brand Voice:** Choose the option that best aligns with the overall tone and style of your company.\n",
      "*   **The Severity of the Feedback:** For extremely negative or urgent feedback, a more empathetic tone might be appropriate.\n",
      "*   **Internal Processes:** If the human agent will be directly contacting the reviewer, include a note about that.\n",
      "\n",
      "No matter which option you choose, make sure the escalation happens promptly after sending the message. Good luck!\n"
     ]
    }
   ],
   "source": [
    "result = final_chain.invoke({\"feedback\":bad_review})\n",
    "print(result)"
   ]
  },
  {
   "cell_type": "code",
   "execution_count": null,
   "id": "080f6c6a-e91f-4db0-8746-c61ed55ba7a9",
   "metadata": {},
   "outputs": [],
   "source": []
  }
 ],
 "metadata": {
  "kernelspec": {
   "display_name": "Python 3 (ipykernel)",
   "language": "python",
   "name": "python3"
  },
  "language_info": {
   "codemirror_mode": {
    "name": "ipython",
    "version": 3
   },
   "file_extension": ".py",
   "mimetype": "text/x-python",
   "name": "python",
   "nbconvert_exporter": "python",
   "pygments_lexer": "ipython3",
   "version": "3.11.11"
  }
 },
 "nbformat": 4,
 "nbformat_minor": 5
}
