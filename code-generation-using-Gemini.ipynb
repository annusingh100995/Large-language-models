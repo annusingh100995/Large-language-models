{
 "cells": [
  {
   "cell_type": "markdown",
   "id": "9fc04a74-a0fc-44b2-afe8-3ce3ed65df78",
   "metadata": {},
   "source": [
    "## Code Generator"
   ]
  },
  {
   "cell_type": "markdown",
   "id": "2cbcf0db-3587-4339-9317-244bb29b2d54",
   "metadata": {},
   "source": [
    "Using Gemini-2.0-flash to convert python code to C++"
   ]
  },
  {
   "cell_type": "code",
   "execution_count": 1,
   "id": "b4d3309c-54cb-47b5-b428-684cff95b59e",
   "metadata": {},
   "outputs": [],
   "source": [
    "import os\n",
    "import io\n",
    "import sys\n",
    "from dotenv import load_dotenv\n",
    "from openai import OpenAI\n",
    "import google.generativeai\n",
    "from IPython.display import Markdown, display, update_display\n",
    "import gradio as gr\n",
    "import subprocess"
   ]
  },
  {
   "cell_type": "code",
   "execution_count": 2,
   "id": "adcfc074-5059-43dc-b06b-f95cd3746366",
   "metadata": {},
   "outputs": [],
   "source": [
    "# Env variables\n",
    "load_dotenv()\n",
    "google_api_key = os.getenv(\"GOOGLE_API_KEY\")"
   ]
  },
  {
   "cell_type": "code",
   "execution_count": 13,
   "id": "e551a54f-0a1b-4267-8970-06fbdf4401ff",
   "metadata": {},
   "outputs": [],
   "source": [
    "openai = OpenAI()\n",
    "MODEL = \"gemini-2.0-flash\""
   ]
  },
  {
   "cell_type": "code",
   "execution_count": 4,
   "id": "7f2884be-0502-457b-add5-a36177a5b601",
   "metadata": {},
   "outputs": [],
   "source": [
    "system_message = \"You are an assistant that reimplements Python code in high performance C++\"\n",
    "system_message += \"Reespond only with C++ code; use comments sparingly and do not provide any explanation other than occasional comments\"\n",
    "system_message += \"The C++ response neeeds to produce an identical output in the fastest posssible time\""
   ]
  },
  {
   "cell_type": "code",
   "execution_count": 30,
   "id": "029c5958-64e0-4c79-992f-82ddb362917d",
   "metadata": {},
   "outputs": [],
   "source": [
    "def user_promtp_for(python):\n",
    "    user_prompt = \"Rewrite this Python code in C++ witht the fastest possible implementation that prodcues identical output un the least time.\"\n",
    "    user_prompt += \"Respons only with C++ codes; do not explain your work other than a few comments\"\n",
    "    user_prompt += \"Pay attention to tnumber types to ensure no int overflows. Remember to  #includeal the necessary C++ packages sush as iomanip. \\n\\n\"\n",
    "    user_prompt += \" Check this warning: unsigned conversion from ‘long int’ to ‘unsigned int’ changes value from ‘4294967296’ to ‘0’ [-Woverflow]\"\n",
    "    user_prompt += python\n",
    "    return user_prompt"
   ]
  },
  {
   "cell_type": "code",
   "execution_count": 31,
   "id": "01e27340-f400-4c7c-91aa-bae859f78a9a",
   "metadata": {},
   "outputs": [],
   "source": [
    "def messages_for(python):\n",
    "    return [\n",
    "        {\"role\":\"system\", \"content\":system_message},\n",
    "        {\"role\":\"user\", \"content\":user_promtp_for(python)}\n",
    "    ]"
   ]
  },
  {
   "cell_type": "code",
   "execution_count": 32,
   "id": "b34cac23-b6dd-4e2c-9bb9-5de50f3cbf13",
   "metadata": {},
   "outputs": [],
   "source": [
    "# Write the code to optimized.cpp\n",
    "def write_output(cpp):\n",
    "    code = cpp.replace(\"```cpp\",\"\").replace(\"```\",\"\")\n",
    "    with open(\"optimized.cpp\",\"w\") as f:\n",
    "        f.write(code)"
   ]
  },
  {
   "cell_type": "code",
   "execution_count": 8,
   "id": "34d7afe7-9d89-422c-b339-20d71cbe37e7",
   "metadata": {},
   "outputs": [],
   "source": [
    "gemini_via_openai_client = OpenAI(\n",
    "    api_key=google_api_key,\n",
    "    base_url=\"https://generativelanguage.googleapis.com/v1beta/openai/\"\n",
    ")"
   ]
  },
  {
   "cell_type": "code",
   "execution_count": 15,
   "id": "28a6a781-06cb-4fdf-bedb-7f8c823522a8",
   "metadata": {},
   "outputs": [],
   "source": [
    "def optimize_gpt(python):\n",
    "    stream = gemini_via_openai_client.chat.completions.create(\n",
    "        model=MODEL,\n",
    "        messages=messages_for(python),\n",
    "        stream=True)\n",
    "    reply = \"\"\n",
    "    for chunk in stream:\n",
    "        fragment = chunk.choices[0].delta.content or \"\"\n",
    "        reply += fragment\n",
    "        print(fragment, end='', flush=True)\n",
    "    write_output(reply)"
   ]
  },
  {
   "cell_type": "code",
   "execution_count": 16,
   "id": "59e7eefa-2941-42b1-a31f-9c0baf6afc5c",
   "metadata": {},
   "outputs": [],
   "source": [
    "pi = \"\"\"\n",
    "import time\n",
    "\n",
    "def calculate(iterations, param1, param2):\n",
    "    result = 1.0\n",
    "    for i in range(1, iterations+1):\n",
    "        j = i * param1 - param2\n",
    "        result -= (1/j)\n",
    "        j = i * param1 + param2\n",
    "        result += (1/j)\n",
    "    return result\n",
    "\n",
    "start_time = time.time()\n",
    "result = calculate(100_000_000, 4, 1) * 4\n",
    "end_time = time.time()\n",
    "\n",
    "print(f\"Result: {result:.12f}\")\n",
    "print(f\"Execution Time: {(end_time - start_time):.6f} seconds\")\n",
    "\"\"\""
   ]
  },
  {
   "cell_type": "code",
   "execution_count": 11,
   "id": "45814301-eb0d-496d-a718-f06202baf31c",
   "metadata": {},
   "outputs": [
    {
     "name": "stdout",
     "output_type": "stream",
     "text": [
      "Result: 3.141592658589\n",
      "Execution Time: 31.162319 seconds\n"
     ]
    }
   ],
   "source": [
    "exec(pi)"
   ]
  },
  {
   "cell_type": "code",
   "execution_count": 17,
   "id": "0a061ab0-56db-46a3-93fe-b27ba92705f0",
   "metadata": {
    "collapsed": true,
    "jupyter": {
     "outputs_hidden": true
    },
    "scrolled": true
   },
   "outputs": [
    {
     "name": "stdout",
     "output_type": "stream",
     "text": [
      "```cpp\n",
      "#include <iostream>\n",
      "#include <iomanip>\n",
      "#include <chrono>\n",
      "\n",
      "double calculate(long long iterations, int param1, int param2) {\n",
      "    double result = 1.0;\n",
      "    for (long long i = 1; i <= iterations; ++i) {\n",
      "        double j = static_cast<double>(i * param1) - param2;\n",
      "        result -= (1.0 / j);\n",
      "        j = static_cast<double>(i * param1) + param2;\n",
      "        result += (1.0 / j);\n",
      "    }\n",
      "    return result;\n",
      "}\n",
      "\n",
      "int main() {\n",
      "    auto start_time = std::chrono::high_resolution_clock::now();\n",
      "    double result = calculate(100000000LL, 4, 1) * 4;\n",
      "    auto end_time = std::chrono::high_resolution_clock::now();\n",
      "\n",
      "    auto duration = std::chrono::duration_cast<std::chrono::microseconds>(end_time - start_time);\n",
      "    double execution_time = static_cast<double>(duration.count()) / 1000000.0;\n",
      "\n",
      "    std::cout << std::fixed << std::setprecision(12) << \"Result: \" << result << std::endl;\n",
      "    std::cout << std::fixed << std::setprecision(6) << \"Execution Time: \" << execution_time << \" seconds\" << std::endl;\n",
      "\n",
      "    return 0;\n",
      "}\n",
      "```"
     ]
    }
   ],
   "source": [
    "optimize_gpt(pi)"
   ]
  },
  {
   "cell_type": "code",
   "execution_count": 18,
   "id": "49d07efe-e26d-48a7-9c47-398f3f92786e",
   "metadata": {},
   "outputs": [
    {
     "name": "stderr",
     "output_type": "stream",
     "text": [
      "'clang++' is not recognized as an internal or external command,\n",
      "operable program or batch file.\n",
      "'.' is not recognized as an internal or external command,\n",
      "operable program or batch file.\n"
     ]
    }
   ],
   "source": [
    "# Compile C++ and run the executable\n",
    "\n",
    "!clang++ -O3 -std=c++17 -march=armv8.3-a -o optimized optimized.cpp\n",
    "!./optimized"
   ]
  },
  {
   "cell_type": "code",
   "execution_count": 21,
   "id": "30c8d254-1b82-41c0-a6d5-7cd74d5d2ff2",
   "metadata": {},
   "outputs": [],
   "source": [
    "%%script bash\n",
    "g++ optimized.cpp\n"
   ]
  },
  {
   "cell_type": "code",
   "execution_count": 24,
   "id": "33c09661-5c33-4780-accc-13c643182eb7",
   "metadata": {},
   "outputs": [
    {
     "name": "stdout",
     "output_type": "stream",
     "text": [
      "Result: 3.141592658589\n",
      "Execution Time: 0.940712 seconds\n"
     ]
    },
    {
     "name": "stderr",
     "output_type": "stream",
     "text": [
      "Execution Time: 0.961 seconds\n"
     ]
    }
   ],
   "source": [
    "%%script bash\n",
    "\n",
    "# Compile the C++ code\n",
    "g++ optimized.cpp -o optimized\n",
    "\n",
    "# Print a separator\n",
    "#echo \"----- Output -----\"\n",
    "\n",
    "# Run and time the execution\n",
    "TIMEFORMAT=\"Execution Time: %R seconds\"\n",
    "time ./optimized\n"
   ]
  },
  {
   "cell_type": "code",
   "execution_count": 25,
   "id": "ca693067-1408-4d1d-abd8-b960c25c34df",
   "metadata": {
    "jupyter": {
     "source_hidden": true
    }
   },
   "outputs": [],
   "source": [
    "python_hard = \"\"\"# Be careful to support large number sizes\n",
    "\n",
    "def lcg(seed, a=1664525, c=1013904223, m=2**32):\n",
    "    value = seed\n",
    "    while True:\n",
    "        value = (a * value + c) % m\n",
    "        yield value\n",
    "        \n",
    "def max_subarray_sum(n, seed, min_val, max_val):\n",
    "    lcg_gen = lcg(seed)\n",
    "    random_numbers = [next(lcg_gen) % (max_val - min_val + 1) + min_val for _ in range(n)]\n",
    "    max_sum = float('-inf')\n",
    "    for i in range(n):\n",
    "        current_sum = 0\n",
    "        for j in range(i, n):\n",
    "            current_sum += random_numbers[j]\n",
    "            if current_sum > max_sum:\n",
    "                max_sum = current_sum\n",
    "    return max_sum\n",
    "\n",
    "def total_max_subarray_sum(n, initial_seed, min_val, max_val):\n",
    "    total_sum = 0\n",
    "    lcg_gen = lcg(initial_seed)\n",
    "    for _ in range(20):\n",
    "        seed = next(lcg_gen)\n",
    "        total_sum += max_subarray_sum(n, seed, min_val, max_val)\n",
    "    return total_sum\n",
    "\n",
    "# Parameters\n",
    "n = 10000         # Number of random numbers\n",
    "initial_seed = 42 # Initial seed for the LCG\n",
    "min_val = -10     # Minimum value of random numbers\n",
    "max_val = 10      # Maximum value of random numbers\n",
    "\n",
    "# Timing the function\n",
    "import time\n",
    "start_time = time.time()\n",
    "result = total_max_subarray_sum(n, initial_seed, min_val, max_val)\n",
    "end_time = time.time()\n",
    "\n",
    "print(\"Total Maximum Subarray Sum (20 runs):\", result)\n",
    "print(\"Execution Time: {:.6f} seconds\".format(end_time - start_time))\n",
    "\"\"\""
   ]
  },
  {
   "cell_type": "code",
   "execution_count": 26,
   "id": "4faa0700-f9fa-4e8d-909f-9a1974551126",
   "metadata": {},
   "outputs": [
    {
     "name": "stdout",
     "output_type": "stream",
     "text": [
      "Total Maximum Subarray Sum (20 runs): 10980\n",
      "Execution Time: 92.089085 seconds\n"
     ]
    }
   ],
   "source": [
    "exec(python_hard)"
   ]
  },
  {
   "cell_type": "code",
   "execution_count": 33,
   "id": "66349234-de0b-4a84-be56-736fa71a3d95",
   "metadata": {
    "collapsed": true,
    "jupyter": {
     "outputs_hidden": true
    },
    "scrolled": true
   },
   "outputs": [
    {
     "name": "stdout",
     "output_type": "stream",
     "text": [
      "```cpp\n",
      "#include <iostream>\n",
      "#include <vector>\n",
      "#include <limits>\n",
      "#include <iomanip>\n",
      "\n",
      "// LCG generator function\n",
      "unsigned int lcg(unsigned int& value, unsigned int a, unsigned int c, unsigned long long m) {\n",
      "    value = (static_cast<unsigned long long>(a) * value + c) % m;\n",
      "    return value;\n",
      "}\n",
      "\n",
      "// Function to calculate the maximum subarray sum\n",
      "long long max_subarray_sum(int n, unsigned int seed, int min_val, int max_val) {\n",
      "    std::vector<int> random_numbers(n);\n",
      "    unsigned int value = seed;\n",
      "    for (int i = 0; i < n; ++i) {\n",
      "        value = lcg(value, 1664525, 1013904223, 4294967296ULL);\n",
      "        random_numbers[i] = (value % (max_val - min_val + 1)) + min_val;\n",
      "    }\n",
      "\n",
      "    long long max_sum = std::numeric_limits<long long>::min();\n",
      "    for (int i = 0; i < n; ++i) {\n",
      "        long long current_sum = 0;\n",
      "        for (int j = i; j < n; ++j) {\n",
      "            current_sum += random_numbers[j];\n",
      "            if (current_sum > max_sum) {\n",
      "                max_sum = current_sum;\n",
      "            }\n",
      "        }\n",
      "    }\n",
      "    return max_sum;\n",
      "}\n",
      "\n",
      "// Function to calculate the total maximum subarray sum over 20 runs\n",
      "long long total_max_subarray_sum(int n, unsigned int initial_seed, int min_val, int max_val) {\n",
      "    long long total_sum = 0;\n",
      "    unsigned int seed = initial_seed;\n",
      "    for (int i = 0; i < 20; ++i) {\n",
      "        seed = lcg(seed, 1664525, 1013904223, 4294967296ULL);\n",
      "        total_sum += max_subarray_sum(n, seed, min_val, max_val);\n",
      "    }\n",
      "    return total_sum;\n",
      "}\n",
      "\n",
      "int main() {\n",
      "    // Parameters\n",
      "    int n = 10000;         // Number of random numbers\n",
      "    unsigned int initial_seed = 42; // Initial seed for the LCG\n",
      "    int min_val = -10;     // Minimum value of random numbers\n",
      "    int max_val = 10;      // Maximum value of random numbers\n",
      "\n",
      "    // Timing the function\n",
      "    auto start_time = std::chrono::high_resolution_clock::now();\n",
      "    long long result = total_max_subarray_sum(n, initial_seed, min_val, max_val);\n",
      "    auto end_time = std::chrono::high_resolution_clock::now();\n",
      "\n",
      "    std::chrono::duration<double> duration = end_time - start_time;\n",
      "\n",
      "    std::cout << \"Total Maximum Subarray Sum (20 runs): \" << result << std::endl;\n",
      "    std::cout << \"Execution Time: \" << std::fixed << std::setprecision(6) << duration.count() << \" seconds\" << std::endl;\n",
      "\n",
      "    return 0;\n",
      "}\n",
      "```"
     ]
    }
   ],
   "source": [
    "optimize_gpt(python_hard)"
   ]
  },
  {
   "cell_type": "code",
   "execution_count": 35,
   "id": "a74c0491-e637-4427-a735-44fc8d4b3726",
   "metadata": {},
   "outputs": [
    {
     "name": "stdout",
     "output_type": "stream",
     "text": [
      "Total Maximum Subarray Sum (20 runs): 10980\n",
      "Execution Time: 0.007383 seconds\n"
     ]
    },
    {
     "name": "stderr",
     "output_type": "stream",
     "text": [
      "Execution Time: 0.040 seconds\n"
     ]
    }
   ],
   "source": [
    "%%script bash\n",
    "\n",
    "# Compile the C++ code\n",
    "g++ optimized.cpp -o optimized\n",
    "\n",
    "# Print a separator\n",
    "#echo \"----- Output -----\"\n",
    "\n",
    "# Run and time the execution\n",
    "TIMEFORMAT=\"Execution Time: %R seconds\"\n",
    "time ./optimized\n"
   ]
  },
  {
   "cell_type": "code",
   "execution_count": 36,
   "id": "701474ed-2413-4a15-a5aa-a3e133b17717",
   "metadata": {},
   "outputs": [],
   "source": [
    "def stream_gpt(python):\n",
    "    stream = gemini_via_openai_client.chat.completions.create(\n",
    "        model=MODEL,\n",
    "        messages=messages_for(python),\n",
    "        stream=True)\n",
    "    reply = \"\"\n",
    "    for chunk in stream:\n",
    "        fragment = chunk.choices[0].delta.content or \"\"\n",
    "        reply += fragment\n",
    "        yield reply.replace('```cpp\\n','').replace('```','')"
   ]
  },
  {
   "cell_type": "code",
   "execution_count": 39,
   "id": "2e1bb611-7d71-49de-b240-f80f5a81ea6d",
   "metadata": {},
   "outputs": [],
   "source": [
    "def optimize(python,model):\n",
    "    if model == \"GEMINI\":\n",
    "        result = stream_gpt(python)\n",
    "    elif model == \"GPT\":\n",
    "        result = stream_gpt(python)\n",
    "    else:\n",
    "        raise ValueError(\"Unknown Model\")\n",
    "    for stream_so_far in result:\n",
    "        yield stream_so_far"
   ]
  },
  {
   "cell_type": "code",
   "execution_count": 41,
   "id": "d8900438-f1cb-4627-aef7-af6917776fe3",
   "metadata": {},
   "outputs": [
    {
     "name": "stdout",
     "output_type": "stream",
     "text": [
      "* Running on local URL:  http://127.0.0.1:7862\n",
      "\n",
      "To create a public link, set `share=True` in `launch()`.\n"
     ]
    },
    {
     "data": {
      "text/html": [
       "<div><iframe src=\"http://127.0.0.1:7862/\" width=\"100%\" height=\"500\" allow=\"autoplay; camera; microphone; clipboard-read; clipboard-write;\" frameborder=\"0\" allowfullscreen></iframe></div>"
      ],
      "text/plain": [
       "<IPython.core.display.HTML object>"
      ]
     },
     "metadata": {},
     "output_type": "display_data"
    },
    {
     "data": {
      "text/plain": []
     },
     "execution_count": 41,
     "metadata": {},
     "output_type": "execute_result"
    }
   ],
   "source": [
    "with gr.Blocks() as ui:\n",
    "    with gr.Row():\n",
    "        python = gr.Textbox(label=\"Python code:\", lines=10, value=pi)\n",
    "        cpp = gr.Textbox(label=\"C++ Code\", lines=10)\n",
    "    with gr.Row():\n",
    "        model = gr.Dropdown([\"GEMINI\",\"GPT\"], label=\"Select Model\",value=\"GPT\")\n",
    "        convert = gr.Button(\"Convert code\")\n",
    "\n",
    "    convert.click(optimize, inputs=[python,model], outputs=[cpp])\n",
    "ui.launch(inbrowser=True)"
   ]
  },
  {
   "cell_type": "code",
   "execution_count": 43,
   "id": "1f2df550-0045-4b13-933a-ef6e5b2aa2a5",
   "metadata": {},
   "outputs": [],
   "source": [
    "def execute_python(code):\n",
    "    try:\n",
    "        output = io.StringIO()\n",
    "        sys.stdout = output\n",
    "        exec(code)\n",
    "    finally:\n",
    "        sys.stdout = sys.__stdout__\n",
    "    return output.getvalue()"
   ]
  },
  {
   "cell_type": "code",
   "execution_count": 49,
   "id": "e3ea8bb7-ca67-42b4-84f1-5f6455fc3cf9",
   "metadata": {},
   "outputs": [
    {
     "name": "stdout",
     "output_type": "stream",
     "text": [
      "Total Maximum Subarray Sum (20 runs): 10980\n",
      "Execution Time: 0.007661 seconds\n"
     ]
    }
   ],
   "source": [
    "%%script bash\n",
    "g++ optimized.cpp -o optimized\n",
    "./optimized"
   ]
  },
  {
   "cell_type": "code",
   "execution_count": null,
   "id": "6edc6762-b864-40a0-9089-f7a90a115094",
   "metadata": {},
   "outputs": [],
   "source": [
    "def exceute_cpp(code):\n",
    "    write_output(code)\n",
    "    try:\n",
    "        compile_cmd = "
   ]
  },
  {
   "cell_type": "code",
   "execution_count": 50,
   "id": "bc635fd7-a51d-430a-b597-e3009f8cf585",
   "metadata": {},
   "outputs": [],
   "source": [
    "def execute_cpp(code):\n",
    "    write_output(code)\n",
    "    try:\n",
    "        # Run the same commands as in %%script bash using a single Bash shell\n",
    "        bash_command = \"\"\"\n",
    "        g++ optimized.cpp -o optimized\n",
    "        ./optimized\n",
    "        \"\"\"\n",
    "        result = subprocess.run([\"bash\", \"-c\", bash_command], check=True, text=True, capture_output=True)\n",
    "        return result.stdout\n",
    "    except subprocess.CalledProcessError as e:\n",
    "        return f\"An error occurred:\\n{e.stderr}\""
   ]
  },
  {
   "cell_type": "code",
   "execution_count": 54,
   "id": "44a883cc-0995-40a6-a0c1-b37f00de1292",
   "metadata": {},
   "outputs": [],
   "source": [
    "css = \"\"\"\n",
    ".python {bacgbround-color: #306998;}\n",
    ".cpp {background-color: #055;}\"\"\""
   ]
  },
  {
   "cell_type": "code",
   "execution_count": 58,
   "id": "4b90b05d-a3d6-4e5f-9904-c0b820ddc1e4",
   "metadata": {},
   "outputs": [
    {
     "data": {
      "text/html": [
       "<div><iframe src=\"http://127.0.0.1:7866/\" width=\"100%\" height=\"500\" allow=\"autoplay; camera; microphone; clipboard-read; clipboard-write;\" frameborder=\"0\" allowfullscreen></iframe></div>"
      ],
      "text/plain": [
       "<IPython.core.display.HTML object>"
      ]
     },
     "metadata": {},
     "output_type": "display_data"
    },
    {
     "data": {
      "text/plain": []
     },
     "execution_count": 58,
     "metadata": {},
     "output_type": "execute_result"
    }
   ],
   "source": [
    "with gr.Blocks(css=css) as ui:\n",
    "    gr.Markdown(\"## Convert code from Python to C++\")\n",
    "    with gr.Row():\n",
    "        python = gr.Textbox(label=\"Python Code\", lines=10)\n",
    "        cpp = gr.Textbox(label=\"C++ Code\",lines=10)\n",
    "    with gr.Row():\n",
    "        model = gr.Dropdown([\"GEMINI\",\"GPT\"], label=\"Select the model\", value=\"GEMINI\")\n",
    "    with gr.Row():\n",
    "        convert = gr.Button(\"Convert Code\")\n",
    "    with gr.Row():\n",
    "        python_run = gr.Button(\"Run Python\")\n",
    "        cpp_run = gr.Button(\"Run C++\")\n",
    "    with gr.Row():\n",
    "        python_out = gr.TextArea(label=\"Python Result:\", elem_classes=[\"python\"])\n",
    "        cpp_out = gr.TextArea(label=\"C++ Result\", elem_classes=[\"cpp\"])\n",
    "\n",
    "    convert.click(optimize, inputs = [python, model], outputs=[cpp])\n",
    "    python_run.click(execute_python, inputs=[python], outputs=[python_out])\n",
    "    cpp_run.click(execute_cpp, inputs=[cpp], outputs=[cpp_out])\n",
    "\n",
    "ui.launch(inbrowser=True)"
   ]
  },
  {
   "cell_type": "code",
   "execution_count": null,
   "id": "b0f69ceb-558b-4d6e-8933-68743ea73efb",
   "metadata": {},
   "outputs": [],
   "source": []
  }
 ],
 "metadata": {
  "kernelspec": {
   "display_name": "Python 3 (ipykernel)",
   "language": "python",
   "name": "python3"
  },
  "language_info": {
   "codemirror_mode": {
    "name": "ipython",
    "version": 3
   },
   "file_extension": ".py",
   "mimetype": "text/x-python",
   "name": "python",
   "nbconvert_exporter": "python",
   "pygments_lexer": "ipython3",
   "version": "3.11.11"
  }
 },
 "nbformat": 4,
 "nbformat_minor": 5
}
