{
 "cells": [
  {
   "cell_type": "code",
   "execution_count": 1,
   "id": "2bc1e234-f07e-4a43-8728-adbb34d149db",
   "metadata": {},
   "outputs": [],
   "source": [
    "import os\n",
    "from langchain.text_splitter import CharacterTextSplitter\n",
    "from langchain_community.document_loaders import TextLoader\n",
    "#from langchain_community.vectorstores import Chroma\n",
    "from langchain_chroma import Chroma\n",
    "from langchain_google_genai import ChatGoogleGenerativeAI, GoogleGenerativeAIEmbeddings\n",
    "from langchain_community.document_loaders import PyPDFLoader\n"
   ]
  },
  {
   "cell_type": "code",
   "execution_count": 31,
   "id": "0dad45e9-dfd2-4737-8f80-bba097eeacc2",
   "metadata": {},
   "outputs": [
    {
     "data": {
      "text/plain": [
       "True"
      ]
     },
     "execution_count": 31,
     "metadata": {},
     "output_type": "execute_result"
    }
   ],
   "source": [
    "from dotenv import load_dotenv\n",
    "load_dotenv()"
   ]
  },
  {
   "cell_type": "code",
   "execution_count": 2,
   "id": "0232bc22-db77-4808-8915-2957a157b8a0",
   "metadata": {},
   "outputs": [],
   "source": [
    "current_dir = os.path.dirname(\".\")\n",
    "file_path = os.path.join(current_dir,\"odyssey.txt\")\n",
    "pdf_path = os.path.join(current_dir,\"german-story.pdf\")\n",
    "persistent_directory = os.path.join(current_dir, \"db\",\"chroma_db\")"
   ]
  },
  {
   "cell_type": "code",
   "execution_count": 3,
   "id": "2c06fbe6-e839-458d-a64d-b53e3d3a3d09",
   "metadata": {},
   "outputs": [],
   "source": [
    "# Check if the chorma vector exists\n",
    "if not os.path.exists(persistent_directory):\n",
    "    print(\"Persistent directory does not exist.\")\n",
    "\n",
    "    if not os.path.exists(file_path):\n",
    "        raise FileNotFoundError(\n",
    "            f\"The file {file_path} does not exist.\"\n",
    "        )\n"
   ]
  },
  {
   "cell_type": "code",
   "execution_count": 27,
   "id": "29a3199f-8ea8-43ea-9293-37f05df65976",
   "metadata": {},
   "outputs": [],
   "source": [
    "# Read the text content\n",
    "loader = TextLoader(\"./odyssey.txt\",encoding=\"utf8\")\n",
    "documents = loader.load()\n"
   ]
  },
  {
   "cell_type": "code",
   "execution_count": 28,
   "id": "52b52087-8e0a-415f-8e1f-894e1e3dd64e",
   "metadata": {
    "collapsed": true,
    "jupyter": {
     "outputs_hidden": true
    }
   },
   "outputs": [
    {
     "name": "stderr",
     "output_type": "stream",
     "text": [
      "Created a chunk of size 1141, which is longer than the specified 1000\n",
      "Created a chunk of size 2086, which is longer than the specified 1000\n",
      "Created a chunk of size 1121, which is longer than the specified 1000\n",
      "Created a chunk of size 1366, which is longer than the specified 1000\n",
      "Created a chunk of size 1011, which is longer than the specified 1000\n",
      "Created a chunk of size 1639, which is longer than the specified 1000\n",
      "Created a chunk of size 1219, which is longer than the specified 1000\n",
      "Created a chunk of size 1875, which is longer than the specified 1000\n",
      "Created a chunk of size 1307, which is longer than the specified 1000\n",
      "Created a chunk of size 2271, which is longer than the specified 1000\n",
      "Created a chunk of size 1430, which is longer than the specified 1000\n",
      "Created a chunk of size 1763, which is longer than the specified 1000\n",
      "Created a chunk of size 1575, which is longer than the specified 1000\n",
      "Created a chunk of size 1028, which is longer than the specified 1000\n",
      "Created a chunk of size 1149, which is longer than the specified 1000\n",
      "Created a chunk of size 1199, which is longer than the specified 1000\n",
      "Created a chunk of size 1604, which is longer than the specified 1000\n",
      "Created a chunk of size 1832, which is longer than the specified 1000\n",
      "Created a chunk of size 1093, which is longer than the specified 1000\n",
      "Created a chunk of size 1995, which is longer than the specified 1000\n",
      "Created a chunk of size 1463, which is longer than the specified 1000\n",
      "Created a chunk of size 1098, which is longer than the specified 1000\n",
      "Created a chunk of size 1053, which is longer than the specified 1000\n",
      "Created a chunk of size 1027, which is longer than the specified 1000\n",
      "Created a chunk of size 1315, which is longer than the specified 1000\n",
      "Created a chunk of size 1627, which is longer than the specified 1000\n",
      "Created a chunk of size 1063, which is longer than the specified 1000\n",
      "Created a chunk of size 1051, which is longer than the specified 1000\n",
      "Created a chunk of size 1265, which is longer than the specified 1000\n",
      "Created a chunk of size 1202, which is longer than the specified 1000\n",
      "Created a chunk of size 1509, which is longer than the specified 1000\n",
      "Created a chunk of size 1153, which is longer than the specified 1000\n",
      "Created a chunk of size 1043, which is longer than the specified 1000\n",
      "Created a chunk of size 1336, which is longer than the specified 1000\n",
      "Created a chunk of size 1111, which is longer than the specified 1000\n",
      "Created a chunk of size 1205, which is longer than the specified 1000\n",
      "Created a chunk of size 1158, which is longer than the specified 1000\n",
      "Created a chunk of size 1004, which is longer than the specified 1000\n",
      "Created a chunk of size 1155, which is longer than the specified 1000\n",
      "Created a chunk of size 1085, which is longer than the specified 1000\n",
      "Created a chunk of size 1064, which is longer than the specified 1000\n",
      "Created a chunk of size 1078, which is longer than the specified 1000\n",
      "Created a chunk of size 1827, which is longer than the specified 1000\n",
      "Created a chunk of size 1188, which is longer than the specified 1000\n",
      "Created a chunk of size 1058, which is longer than the specified 1000\n",
      "Created a chunk of size 1226, which is longer than the specified 1000\n",
      "Created a chunk of size 1419, which is longer than the specified 1000\n",
      "Created a chunk of size 1223, which is longer than the specified 1000\n",
      "Created a chunk of size 1284, which is longer than the specified 1000\n",
      "Created a chunk of size 1112, which is longer than the specified 1000\n",
      "Created a chunk of size 1437, which is longer than the specified 1000\n",
      "Created a chunk of size 1030, which is longer than the specified 1000\n",
      "Created a chunk of size 1094, which is longer than the specified 1000\n",
      "Created a chunk of size 1079, which is longer than the specified 1000\n",
      "Created a chunk of size 1073, which is longer than the specified 1000\n",
      "Created a chunk of size 1550, which is longer than the specified 1000\n",
      "Created a chunk of size 1737, which is longer than the specified 1000\n",
      "Created a chunk of size 1038, which is longer than the specified 1000\n",
      "Created a chunk of size 1011, which is longer than the specified 1000\n",
      "Created a chunk of size 1382, which is longer than the specified 1000\n",
      "Created a chunk of size 1184, which is longer than the specified 1000\n",
      "Created a chunk of size 1378, which is longer than the specified 1000\n",
      "Created a chunk of size 1052, which is longer than the specified 1000\n",
      "Created a chunk of size 1402, which is longer than the specified 1000\n",
      "Created a chunk of size 1047, which is longer than the specified 1000\n",
      "Created a chunk of size 1163, which is longer than the specified 1000\n",
      "Created a chunk of size 1403, which is longer than the specified 1000\n",
      "Created a chunk of size 1077, which is longer than the specified 1000\n",
      "Created a chunk of size 1588, which is longer than the specified 1000\n",
      "Created a chunk of size 1228, which is longer than the specified 1000\n",
      "Created a chunk of size 1337, which is longer than the specified 1000\n",
      "Created a chunk of size 1469, which is longer than the specified 1000\n",
      "Created a chunk of size 1269, which is longer than the specified 1000\n",
      "Created a chunk of size 1106, which is longer than the specified 1000\n",
      "Created a chunk of size 1492, which is longer than the specified 1000\n",
      "Created a chunk of size 1219, which is longer than the specified 1000\n",
      "Created a chunk of size 1165, which is longer than the specified 1000\n",
      "Created a chunk of size 1115, which is longer than the specified 1000\n",
      "Created a chunk of size 1505, which is longer than the specified 1000\n",
      "Created a chunk of size 1549, which is longer than the specified 1000\n",
      "Created a chunk of size 1309, which is longer than the specified 1000\n",
      "Created a chunk of size 1290, which is longer than the specified 1000\n",
      "Created a chunk of size 1593, which is longer than the specified 1000\n",
      "Created a chunk of size 1292, which is longer than the specified 1000\n",
      "Created a chunk of size 1136, which is longer than the specified 1000\n",
      "Created a chunk of size 1162, which is longer than the specified 1000\n",
      "Created a chunk of size 1003, which is longer than the specified 1000\n",
      "Created a chunk of size 1065, which is longer than the specified 1000\n",
      "Created a chunk of size 1403, which is longer than the specified 1000\n",
      "Created a chunk of size 1564, which is longer than the specified 1000\n",
      "Created a chunk of size 1776, which is longer than the specified 1000\n",
      "Created a chunk of size 1006, which is longer than the specified 1000\n",
      "Created a chunk of size 1377, which is longer than the specified 1000\n",
      "Created a chunk of size 1289, which is longer than the specified 1000\n",
      "Created a chunk of size 1727, which is longer than the specified 1000\n",
      "Created a chunk of size 1555, which is longer than the specified 1000\n",
      "Created a chunk of size 1619, which is longer than the specified 1000\n",
      "Created a chunk of size 1059, which is longer than the specified 1000\n",
      "Created a chunk of size 1013, which is longer than the specified 1000\n",
      "Created a chunk of size 1180, which is longer than the specified 1000\n",
      "Created a chunk of size 1897, which is longer than the specified 1000\n",
      "Created a chunk of size 1412, which is longer than the specified 1000\n",
      "Created a chunk of size 1740, which is longer than the specified 1000\n",
      "Created a chunk of size 1126, which is longer than the specified 1000\n",
      "Created a chunk of size 1003, which is longer than the specified 1000\n",
      "Created a chunk of size 1126, which is longer than the specified 1000\n",
      "Created a chunk of size 1384, which is longer than the specified 1000\n",
      "Created a chunk of size 1688, which is longer than the specified 1000\n",
      "Created a chunk of size 1035, which is longer than the specified 1000\n",
      "Created a chunk of size 2424, which is longer than the specified 1000\n",
      "Created a chunk of size 2028, which is longer than the specified 1000\n",
      "Created a chunk of size 1697, which is longer than the specified 1000\n",
      "Created a chunk of size 2474, which is longer than the specified 1000\n",
      "Created a chunk of size 1327, which is longer than the specified 1000\n",
      "Created a chunk of size 1225, which is longer than the specified 1000\n",
      "Created a chunk of size 1118, which is longer than the specified 1000\n",
      "Created a chunk of size 1999, which is longer than the specified 1000\n",
      "Created a chunk of size 2401, which is longer than the specified 1000\n",
      "Created a chunk of size 1227, which is longer than the specified 1000\n",
      "Created a chunk of size 1074, which is longer than the specified 1000\n",
      "Created a chunk of size 1810, which is longer than the specified 1000\n",
      "Created a chunk of size 1065, which is longer than the specified 1000\n",
      "Created a chunk of size 1528, which is longer than the specified 1000\n",
      "Created a chunk of size 1122, which is longer than the specified 1000\n",
      "Created a chunk of size 2149, which is longer than the specified 1000\n",
      "Created a chunk of size 1226, which is longer than the specified 1000\n",
      "Created a chunk of size 1008, which is longer than the specified 1000\n",
      "Created a chunk of size 1504, which is longer than the specified 1000\n",
      "Created a chunk of size 1119, which is longer than the specified 1000\n",
      "Created a chunk of size 1107, which is longer than the specified 1000\n",
      "Created a chunk of size 1194, which is longer than the specified 1000\n",
      "Created a chunk of size 1031, which is longer than the specified 1000\n",
      "Created a chunk of size 1034, which is longer than the specified 1000\n",
      "Created a chunk of size 1386, which is longer than the specified 1000\n",
      "Created a chunk of size 1235, which is longer than the specified 1000\n",
      "Created a chunk of size 1004, which is longer than the specified 1000\n",
      "Created a chunk of size 1792, which is longer than the specified 1000\n",
      "Created a chunk of size 1132, which is longer than the specified 1000\n",
      "Created a chunk of size 1055, which is longer than the specified 1000\n",
      "Created a chunk of size 1189, which is longer than the specified 1000\n",
      "Created a chunk of size 1528, which is longer than the specified 1000\n",
      "Created a chunk of size 2049, which is longer than the specified 1000\n",
      "Created a chunk of size 1097, which is longer than the specified 1000\n",
      "Created a chunk of size 1860, which is longer than the specified 1000\n",
      "Created a chunk of size 1296, which is longer than the specified 1000\n",
      "Created a chunk of size 1369, which is longer than the specified 1000\n",
      "Created a chunk of size 1121, which is longer than the specified 1000\n",
      "Created a chunk of size 1285, which is longer than the specified 1000\n",
      "Created a chunk of size 1736, which is longer than the specified 1000\n",
      "Created a chunk of size 1637, which is longer than the specified 1000\n",
      "Created a chunk of size 1184, which is longer than the specified 1000\n",
      "Created a chunk of size 1045, which is longer than the specified 1000\n",
      "Created a chunk of size 1132, which is longer than the specified 1000\n",
      "Created a chunk of size 1674, which is longer than the specified 1000\n"
     ]
    }
   ],
   "source": [
    "# Split the text into chunks\n",
    "text_splitter = CharacterTextSplitter(chunk_size=1000, chunk_overlap=400)\n",
    "docs = text_splitter.split_documents(documents)\n"
   ]
  },
  {
   "cell_type": "code",
   "execution_count": 30,
   "id": "8204e725-4d42-43a7-ae15-9e9bec0391b9",
   "metadata": {},
   "outputs": [
    {
     "name": "stdout",
     "output_type": "stream",
     "text": [
      "\n",
      " ---Document Chunks Information---\n",
      "\n",
      "Number of document chunks : 867\n"
     ]
    }
   ],
   "source": [
    "# Display infor\n",
    "print(\"\\n ---Document Chunks Information---\\n\")\n",
    "print(f\"Number of document chunks : {len(docs)}\")\n",
    "#print(f\"Sample chunk:'n{docs[0].page_content}\\n\")"
   ]
  },
  {
   "cell_type": "code",
   "execution_count": 34,
   "id": "5e5edc23-f371-48b9-bc47-60df4ebbf76d",
   "metadata": {},
   "outputs": [
    {
     "name": "stdout",
     "output_type": "stream",
     "text": [
      "\n",
      " --- Creating Embeddings ---\n",
      "\n",
      "--- Finished creating embeddings ---\n"
     ]
    }
   ],
   "source": [
    "# Create embeddings\n",
    "print(\"\\n --- Creating Embeddings ---\")\n",
    "embeddings = GoogleGenerativeAIEmbeddings(model=\"models/embedding-001\")\n",
    "print(\"\\n--- Finished creating embeddings ---\")\n"
   ]
  },
  {
   "cell_type": "code",
   "execution_count": 35,
   "id": "2d0b758e-3735-40b1-bbd0-9a64e48cbbe8",
   "metadata": {},
   "outputs": [
    {
     "name": "stdout",
     "output_type": "stream",
     "text": [
      "\n",
      "--- Creating vector store ---\n",
      "\n",
      "--- Finished creating vector store ---\n"
     ]
    }
   ],
   "source": [
    "# Create the vector store and persist it automatically\n",
    "print(\"\\n--- Creating vector store ---\")\n",
    "db = Chroma.from_documents(\n",
    "    docs, embeddings, persist_directory=persistent_directory)\n",
    "print(\"\\n--- Finished creating vector store ---\")\n"
   ]
  },
  {
   "cell_type": "code",
   "execution_count": 36,
   "id": "201aad49-9f2f-402e-842e-b59b701a5241",
   "metadata": {},
   "outputs": [],
   "source": [
    "# Load the existing vector store with the embedding function\n",
    "db = Chroma(persist_directory=persistent_directory,\n",
    "            embedding_function=embeddings)"
   ]
  },
  {
   "cell_type": "code",
   "execution_count": 37,
   "id": "7fb6380a-7a1c-4dcb-b2d0-1fc765ea57fe",
   "metadata": {},
   "outputs": [],
   "source": [
    "# Define the user's question\n",
    "query = \"Who is Odysseus' wife?\""
   ]
  },
  {
   "cell_type": "code",
   "execution_count": 45,
   "id": "f863b259-c7b4-44ae-b9c5-b5a0a4cdbbee",
   "metadata": {},
   "outputs": [],
   "source": [
    "# Retrieve relevant documents based on the query\n",
    "retriever = db.as_retriever(\n",
    "    search_type=\"similarity\",\n",
    "    search_kwargs={\"k\": 3}\n",
    ")\n",
    "#retriever = vectorstoredb.as_retriever(search_type = \"similarity\", search_kwargs={\"k\":5})"
   ]
  },
  {
   "cell_type": "code",
   "execution_count": 46,
   "id": "3ffd5edc-f575-4f45-9a3f-3f10652ea71c",
   "metadata": {
    "collapsed": true,
    "jupyter": {
     "outputs_hidden": true
    }
   },
   "outputs": [
    {
     "name": "stdout",
     "output_type": "stream",
     "text": [
      "\n",
      "--- Relevant Documents ---\n",
      "Document 1:\n",
      "Now all the rest, as many as fled from sheer destruction, were at\n",
      "    home, and had escaped both war and sea, but Odysseus only, craving\n",
      "    for his wife and for his homeward path, the lady nymph Calypso\n",
      "    held, that fair goddess, in her hollow caves, longing to have him\n",
      "    for her lord. But when now the year had come in the courses of the\n",
      "    seasons, wherein the gods had ordained that he should return home\n",
      "    to Ithaca, not even there was he quit of labours, not even among\n",
      "    his own; but all the gods had pity on him save Poseidon, who raged\n",
      "    continually against godlike Odysseus, till he came to his own\n",
      "    country. Howbeit Poseidon had now departed for the distant\n",
      "    Ethiopians, the Ethiopians that are sundered in twain, the\n",
      "    uttermost of men, abiding some where Hyperion sinks and some where\n",
      "    he rises. There he looked to receive his hecatomb of bulls and\n",
      "    rams, there he made merry sitting at the feast, but the other gods\n",
      "    were gathered in the halls of Olympian Zeus. Then among them the\n",
      "    father of men and gods began to speak, for he bethought him in his\n",
      "    heart of noble Aegisthus, whom the son of Agamemnon, far-famed\n",
      "    Orestes, slew. Thinking upon him he spake out among the Immortals:\n",
      "    ‘Lo you now, how vainly mortal men do blame the gods! For of us\n",
      "    they say comes evil, whereas they even of themselves, through the\n",
      "    blindness of their own hearts, have sorrows beyond that which is\n",
      "    ordained. Even as of late Aegisthus, beyond that which was\n",
      "    ordained, took to him the wedded wife of the son of Atreus, and\n",
      "    killed her lord on his return, and that with sheer doom before his\n",
      "    eyes, since we had warned him by the embassy of Hermes the\n",
      "    keen-sighted, the slayer of Argos, that he should neither kill the\n",
      "    man, nor woo his wife. For the son of Atreus shall be avenged at\n",
      "    the hand of Orestes, so soon as he shall come to man’s estate and\n",
      "    long for his own country. So spake Hermes, yet he prevailed not on\n",
      "    the heart of Aegisthus, for all his good will; but now hath he paid\n",
      "    one price for all.’\n",
      "\n",
      "Source: ./odyssey.txt\n",
      "\n",
      "Document 2:\n",
      "And the goddess, grey-eyed Athene, answered him, saying: ‘O father,\n",
      "    our father Cronides, throned in the highest; that man assuredly\n",
      "    lies in a death that is his due; so perish likewise all who work\n",
      "    such deeds! But my heart is rent for wise Odysseus, the hapless\n",
      "    one, who far from his friends this long while suffereth affliction\n",
      "    in a sea-girt isle, where is the navel of the sea, a woodland isle,\n",
      "    and therein a goddess hath her habitation, the daughter of the\n",
      "    wizard Atlas, who knows the depths of every sea, and himself\n",
      "    upholds the tall pillars which keep earth and sky asunder. His\n",
      "    daughter it is that holds the hapless man in sorrow: and ever with\n",
      "    soft and guileful tales she is wooing him to forgetfulness of\n",
      "    Ithaca. But Odysseus yearning to see if it were but the smoke leap\n",
      "    upwards from his own land, hath a desire to die. As for thee, thine\n",
      "    heart regardeth it not at all, Olympian! What! Did not Odysseus by\n",
      "    the ships of the Argives make thee free offering of sacrifice in\n",
      "    the wide Trojan land? Wherefore wast thou then so wroth with him, O\n",
      "    Zeus?’\n",
      "\n",
      "Source: ./odyssey.txt\n",
      "\n",
      "Document 3:\n",
      "When he was in this plight, Ino daughter of Cadmus, also called\n",
      "Leucothea, saw him. She had formerly been a mere mortal, but had been\n",
      "since raised to the rank of a marine goddess. Seeing in what great\n",
      "distress Ulysses now was, she had compassion upon him, and, rising like\n",
      "a sea-gull from the waves, took her seat upon the raft.\n",
      "\n",
      "Source: ./odyssey.txt\n",
      "\n"
     ]
    }
   ],
   "source": [
    "# Display the relevant results with metadata\n",
    "print(\"\\n--- Relevant Documents ---\")\n",
    "for i, doc in enumerate(relevant_docs, 1):\n",
    "    print(f\"Document {i}:\\n{doc.page_content}\\n\")\n",
    "    if doc.metadata:\n",
    "        print(f\"Source: {doc.metadata.get('source', 'Unknown')}\\n\")"
   ]
  },
  {
   "cell_type": "code",
   "execution_count": null,
   "id": "6c36be88-dc2f-40cf-a7b1-50701839108c",
   "metadata": {},
   "outputs": [],
   "source": []
  }
 ],
 "metadata": {
  "kernelspec": {
   "display_name": "Python 3 (ipykernel)",
   "language": "python",
   "name": "python3"
  },
  "language_info": {
   "codemirror_mode": {
    "name": "ipython",
    "version": 3
   },
   "file_extension": ".py",
   "mimetype": "text/x-python",
   "name": "python",
   "nbconvert_exporter": "python",
   "pygments_lexer": "ipython3",
   "version": "3.11.11"
  }
 },
 "nbformat": 4,
 "nbformat_minor": 5
}
