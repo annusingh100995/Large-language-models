{
 "cells": [
  {
   "cell_type": "markdown",
   "id": "1cab4ce8-d083-426e-a89b-5d11c414d162",
   "metadata": {},
   "source": [
    "OpenAI code"
   ]
  },
  {
   "cell_type": "code",
   "execution_count": null,
   "id": "58412377-1e5b-4477-b477-209a52f0fbcb",
   "metadata": {},
   "outputs": [],
   "source": [
    "# I don't have paid API yet\n",
    "\n",
    "from dotenv import load_dotenv\n",
    "from langchain_openai import ChatOpenAI\n",
    "\n",
    "# Load environment variables from .env\n",
    "load_dotenv()\n",
    "\n",
    "# Create a ChatOpenAI model\n",
    "model = ChatOpenAI(model=\"gpt-4o\")\n",
    "\n",
    "# Invoke the model with a message\n",
    "result = model.invoke(\"What is 81 divided by 9?\")\n",
    "print(\"Full result:\")\n",
    "print(result)\n",
    "print(\"Content only:\")\n",
    "print(result.content)"
   ]
  },
  {
   "cell_type": "markdown",
   "id": "de79e95e-3174-4bb2-b4d5-282c5a6b0f5b",
   "metadata": {},
   "source": [
    "Ollama code"
   ]
  },
  {
   "cell_type": "code",
   "execution_count": 1,
   "id": "323dd494-0693-4ff6-bf78-3198ca81c26b",
   "metadata": {},
   "outputs": [],
   "source": [
    "import ollama"
   ]
  },
  {
   "cell_type": "code",
   "execution_count": 10,
   "id": "6af4f393-ca49-4c4f-94a2-5e4806c3dbec",
   "metadata": {},
   "outputs": [],
   "source": [
    "from langchain_core.messages import HumanMessage\n",
    "\n",
    "# I have ollama3.2 runnign on my laptop\n",
    "# Ollama doesn't have a direct equivalent of OpenAI's model naming convention\n",
    "# You need to specify the name of the model you have pulled in Ollama\n",
    "ollama_model_name = \"llama3.2\"  # Replace with the name of your Ollama model\n"
   ]
  },
  {
   "cell_type": "code",
   "execution_count": 11,
   "id": "18bb0668-a048-4086-9870-af8fe1fef950",
   "metadata": {},
   "outputs": [],
   "source": [
    "from langchain_community.chat_models import ChatOllama\n",
    "\n",
    "# Create a ChatOllama model instance\n",
    "ollama_model = ChatOllama(model=ollama_model_name)\n",
    "\n",
    "# Create a HumanMessage object containing your prompt\n",
    "message = HumanMessage(content=\"What is 81 divided by 9?\")\n"
   ]
  },
  {
   "cell_type": "code",
   "execution_count": 12,
   "id": "0e63b162-f0bc-4d37-a35c-a57c2e5ca41b",
   "metadata": {},
   "outputs": [
    {
     "name": "stdout",
     "output_type": "stream",
     "text": [
      "Full result:\n",
      "content='81 ÷ 9 = 9' additional_kwargs={} response_metadata={'model': 'llama3.2', 'created_at': '2025-04-17T12:37:36.423908Z', 'message': {'role': 'assistant', 'content': ''}, 'done_reason': 'stop', 'done': True, 'total_duration': 5265934700, 'load_duration': 131017800, 'prompt_eval_count': 34, 'prompt_eval_duration': 3034846300, 'eval_count': 9, 'eval_duration': 2085015100} id='run-60f71319-7122-461d-86cb-f2e8819f54d9-0'\n",
      "\n",
      "Response content:\n",
      "81 ÷ 9 = 9\n"
     ]
    }
   ],
   "source": [
    "\n",
    "# Langchain provides an integration for Ollama through the ChatOllama class\n",
    "\n",
    "# Invoke the Ollama model with the message\n",
    "result = ollama_model.invoke([message])\n",
    "\n",
    "# Print the full result\n",
    "print(\"Full result:\")\n",
    "print(result)\n",
    "\n",
    "# To get just the content of the response:\n",
    "print(\"\\nResponse content:\")\n",
    "print(result.content)\n"
   ]
  },
  {
   "cell_type": "markdown",
   "id": "ea046a9b-7f0b-4f8c-8c90-f0f9842bc0b9",
   "metadata": {},
   "source": [
    "Updated version"
   ]
  },
  {
   "cell_type": "code",
   "execution_count": 13,
   "id": "56914d6d-4211-4da8-a429-1a0257864e50",
   "metadata": {
    "collapsed": true,
    "jupyter": {
     "outputs_hidden": true
    }
   },
   "outputs": [
    {
     "name": "stdout",
     "output_type": "stream",
     "text": [
      "Collecting langchain-ollama\n",
      "  Downloading langchain_ollama-0.3.2-py3-none-any.whl.metadata (1.5 kB)\n",
      "Requirement already satisfied: ollama<1,>=0.4.4 in c:\\users\\annu\\anaconda3\\envs\\llms\\lib\\site-packages (from langchain-ollama) (0.4.7)\n",
      "Collecting langchain-core<1.0.0,>=0.3.52 (from langchain-ollama)\n",
      "  Downloading langchain_core-0.3.52-py3-none-any.whl.metadata (5.9 kB)\n",
      "Requirement already satisfied: langsmith<0.4,>=0.1.125 in c:\\users\\annu\\anaconda3\\envs\\llms\\lib\\site-packages (from langchain-core<1.0.0,>=0.3.52->langchain-ollama) (0.3.28)\n",
      "Requirement already satisfied: tenacity!=8.4.0,<10.0.0,>=8.1.0 in c:\\users\\annu\\anaconda3\\envs\\llms\\lib\\site-packages (from langchain-core<1.0.0,>=0.3.52->langchain-ollama) (9.1.2)\n",
      "Requirement already satisfied: jsonpatch<2.0,>=1.33 in c:\\users\\annu\\anaconda3\\envs\\llms\\lib\\site-packages (from langchain-core<1.0.0,>=0.3.52->langchain-ollama) (1.33)\n",
      "Requirement already satisfied: PyYAML>=5.3 in c:\\users\\annu\\anaconda3\\envs\\llms\\lib\\site-packages (from langchain-core<1.0.0,>=0.3.52->langchain-ollama) (6.0.2)\n",
      "Requirement already satisfied: packaging<25,>=23.2 in c:\\users\\annu\\anaconda3\\envs\\llms\\lib\\site-packages (from langchain-core<1.0.0,>=0.3.52->langchain-ollama) (24.2)\n",
      "Requirement already satisfied: typing-extensions>=4.7 in c:\\users\\annu\\anaconda3\\envs\\llms\\lib\\site-packages (from langchain-core<1.0.0,>=0.3.52->langchain-ollama) (4.13.1)\n",
      "Requirement already satisfied: pydantic<3.0.0,>=2.5.2 in c:\\users\\annu\\anaconda3\\envs\\llms\\lib\\site-packages (from langchain-core<1.0.0,>=0.3.52->langchain-ollama) (2.11.3)\n",
      "Requirement already satisfied: httpx<0.29,>=0.27 in c:\\users\\annu\\anaconda3\\envs\\llms\\lib\\site-packages (from ollama<1,>=0.4.4->langchain-ollama) (0.28.1)\n",
      "Requirement already satisfied: anyio in c:\\users\\annu\\anaconda3\\envs\\llms\\lib\\site-packages (from httpx<0.29,>=0.27->ollama<1,>=0.4.4->langchain-ollama) (4.9.0)\n",
      "Requirement already satisfied: certifi in c:\\users\\annu\\anaconda3\\envs\\llms\\lib\\site-packages (from httpx<0.29,>=0.27->ollama<1,>=0.4.4->langchain-ollama) (2025.1.31)\n",
      "Requirement already satisfied: httpcore==1.* in c:\\users\\annu\\anaconda3\\envs\\llms\\lib\\site-packages (from httpx<0.29,>=0.27->ollama<1,>=0.4.4->langchain-ollama) (1.0.7)\n",
      "Requirement already satisfied: idna in c:\\users\\annu\\anaconda3\\envs\\llms\\lib\\site-packages (from httpx<0.29,>=0.27->ollama<1,>=0.4.4->langchain-ollama) (3.10)\n",
      "Requirement already satisfied: h11<0.15,>=0.13 in c:\\users\\annu\\anaconda3\\envs\\llms\\lib\\site-packages (from httpcore==1.*->httpx<0.29,>=0.27->ollama<1,>=0.4.4->langchain-ollama) (0.14.0)\n",
      "Requirement already satisfied: jsonpointer>=1.9 in c:\\users\\annu\\anaconda3\\envs\\llms\\lib\\site-packages (from jsonpatch<2.0,>=1.33->langchain-core<1.0.0,>=0.3.52->langchain-ollama) (3.0.0)\n",
      "Requirement already satisfied: orjson<4.0.0,>=3.9.14 in c:\\users\\annu\\anaconda3\\envs\\llms\\lib\\site-packages (from langsmith<0.4,>=0.1.125->langchain-core<1.0.0,>=0.3.52->langchain-ollama) (3.10.16)\n",
      "Requirement already satisfied: requests<3,>=2 in c:\\users\\annu\\anaconda3\\envs\\llms\\lib\\site-packages (from langsmith<0.4,>=0.1.125->langchain-core<1.0.0,>=0.3.52->langchain-ollama) (2.32.3)\n",
      "Requirement already satisfied: requests-toolbelt<2.0.0,>=1.0.0 in c:\\users\\annu\\anaconda3\\envs\\llms\\lib\\site-packages (from langsmith<0.4,>=0.1.125->langchain-core<1.0.0,>=0.3.52->langchain-ollama) (1.0.0)\n",
      "Requirement already satisfied: zstandard<0.24.0,>=0.23.0 in c:\\users\\annu\\anaconda3\\envs\\llms\\lib\\site-packages (from langsmith<0.4,>=0.1.125->langchain-core<1.0.0,>=0.3.52->langchain-ollama) (0.23.0)\n",
      "Requirement already satisfied: annotated-types>=0.6.0 in c:\\users\\annu\\anaconda3\\envs\\llms\\lib\\site-packages (from pydantic<3.0.0,>=2.5.2->langchain-core<1.0.0,>=0.3.52->langchain-ollama) (0.7.0)\n",
      "Requirement already satisfied: pydantic-core==2.33.1 in c:\\users\\annu\\anaconda3\\envs\\llms\\lib\\site-packages (from pydantic<3.0.0,>=2.5.2->langchain-core<1.0.0,>=0.3.52->langchain-ollama) (2.33.1)\n",
      "Requirement already satisfied: typing-inspection>=0.4.0 in c:\\users\\annu\\anaconda3\\envs\\llms\\lib\\site-packages (from pydantic<3.0.0,>=2.5.2->langchain-core<1.0.0,>=0.3.52->langchain-ollama) (0.4.0)\n",
      "Requirement already satisfied: charset_normalizer<4,>=2 in c:\\users\\annu\\anaconda3\\envs\\llms\\lib\\site-packages (from requests<3,>=2->langsmith<0.4,>=0.1.125->langchain-core<1.0.0,>=0.3.52->langchain-ollama) (3.4.1)\n",
      "Requirement already satisfied: urllib3<3,>=1.21.1 in c:\\users\\annu\\anaconda3\\envs\\llms\\lib\\site-packages (from requests<3,>=2->langsmith<0.4,>=0.1.125->langchain-core<1.0.0,>=0.3.52->langchain-ollama) (2.3.0)\n",
      "Requirement already satisfied: sniffio>=1.1 in c:\\users\\annu\\anaconda3\\envs\\llms\\lib\\site-packages (from anyio->httpx<0.29,>=0.27->ollama<1,>=0.4.4->langchain-ollama) (1.3.1)\n",
      "Downloading langchain_ollama-0.3.2-py3-none-any.whl (20 kB)\n",
      "Downloading langchain_core-0.3.52-py3-none-any.whl (433 kB)\n",
      "Installing collected packages: langchain-core, langchain-ollama\n",
      "  Attempting uninstall: langchain-core\n",
      "    Found existing installation: langchain-core 0.3.51\n",
      "    Uninstalling langchain-core-0.3.51:\n",
      "      Successfully uninstalled langchain-core-0.3.51\n",
      "Successfully installed langchain-core-0.3.52 langchain-ollama-0.3.2\n",
      "Note: you may need to restart the kernel to use updated packages.\n"
     ]
    }
   ],
   "source": [
    "pip install langchain-ollama"
   ]
  },
  {
   "cell_type": "code",
   "execution_count": 1,
   "id": "806a8f6d-7afd-44dd-96c0-5894e15ed633",
   "metadata": {},
   "outputs": [],
   "source": [
    "from langchain_ollama import ChatOllama\n"
   ]
  },
  {
   "cell_type": "code",
   "execution_count": null,
   "id": "00a5cd8f-f41a-4260-843a-d0132a61f166",
   "metadata": {},
   "outputs": [],
   "source": []
  },
  {
   "cell_type": "code",
   "execution_count": null,
   "id": "044d61ec-f075-4986-a6ae-42c126206297",
   "metadata": {},
   "outputs": [],
   "source": []
  }
 ],
 "metadata": {
  "kernelspec": {
   "display_name": "Python 3 (ipykernel)",
   "language": "python",
   "name": "python3"
  },
  "language_info": {
   "codemirror_mode": {
    "name": "ipython",
    "version": 3
   },
   "file_extension": ".py",
   "mimetype": "text/x-python",
   "name": "python",
   "nbconvert_exporter": "python",
   "pygments_lexer": "ipython3",
   "version": "3.11.11"
  }
 },
 "nbformat": 4,
 "nbformat_minor": 5
}
